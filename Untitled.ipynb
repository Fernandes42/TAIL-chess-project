{
 "cells": [
  {
   "cell_type": "code",
   "execution_count": null,
   "id": "7f5f1531",
   "metadata": {},
   "outputs": [
    {
     "name": "stderr",
     "output_type": "stream",
     "text": [
      "<UciProtocol (pid=21174)>: stderr >> \u001b[1m\u001b[31m       _\n",
      "<UciProtocol (pid=21174)>: stderr >> |   _ | |\n",
      "<UciProtocol (pid=21174)>: stderr >> |_ |_ |_|\u001b[0m v0.29.0+git.dirty built Dec 19 2022\n"
     ]
    }
   ],
   "source": [
    "import chess\n",
    "import chess.engine\n",
    "\n",
    "stockfish = chess.engine.SimpleEngine.popen_uci(\"/usr/local/Cellar/stockfish/15.1/bin/stockfish\")\n",
    "leela = chess.engine.SimpleEngine.popen_uci(\"/usr/local/Cellar/lc0/0.29.0/bin/lc0\")\n",
    "\n",
    "\n",
    "board = chess.Board()\n",
    "\n",
    "game_type = input(\"Mode 1 or 2?: \")\n",
    "\n",
    "\n",
    "\n",
    "\n",
    "while not board.is_game_over():\n",
    "    result = stockfish.play(board, chess.engine.Limit(time=0.1))\n",
    "    board.push(result.move)\n",
    "    display(board)\n",
    "#     if game_type == 1:\n",
    "    sf = stockfish.analyse(board, chess.engine.Limit(time=1))\n",
    "    lc0 = leela.analyse(board, chess.engine.Limit(time=1))\n",
    "    user_move = input(\"Enter your move:  \")\n",
    "    try:\n",
    "        board.push_san(user_move)\n",
    "    except:\n",
    "        break\n",
    "#     if game_type == 1:\n",
    "#     print(lc0[\"pv\"][0], sf[\"pv\"])\n",
    "    if lc0[\"pv\"][0] not in sf[\"pv\"]:\n",
    "        print(lc0[\"pv\"][0])\n",
    "\n",
    "\n",
    "stockfish.quit()\n",
    "leela.quit()"
   ]
  },
  {
   "cell_type": "code",
   "execution_count": null,
   "id": "b830fc0f",
   "metadata": {},
   "outputs": [],
   "source": []
  },
  {
   "cell_type": "code",
   "execution_count": null,
   "id": "a1cc4571",
   "metadata": {},
   "outputs": [],
   "source": []
  }
 ],
 "metadata": {
  "kernelspec": {
   "display_name": "Python 3 (ipykernel)",
   "language": "python",
   "name": "python3"
  },
  "language_info": {
   "codemirror_mode": {
    "name": "ipython",
    "version": 3
   },
   "file_extension": ".py",
   "mimetype": "text/x-python",
   "name": "python",
   "nbconvert_exporter": "python",
   "pygments_lexer": "ipython3",
   "version": "3.7.6"
  }
 },
 "nbformat": 4,
 "nbformat_minor": 5
}
